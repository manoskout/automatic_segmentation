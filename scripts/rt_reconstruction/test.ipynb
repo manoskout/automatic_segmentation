{
 "cells": [
  {
   "cell_type": "code",
   "execution_count": 1,
   "metadata": {},
   "outputs": [],
   "source": [
    "import pydicom as dicom\n",
    "import cv2 as cv \n",
    "import numpy as np\n",
    "import matplotlib.pyplot as plt\n",
    "rt_struct_path = \"struct.dcm\"\n",
    "rt_struct = dicom.dcmread(rt_struct_path)\n",
    "img_path = \"input.dcm\"\n",
    "mri = dicom.dcmread(img_path)\n",
    "\n"
   ]
  },
  {
   "cell_type": "code",
   "execution_count": 37,
   "metadata": {},
   "outputs": [],
   "source": [
    "# Find the roi called vessie\n",
    "for roi in rt_struct.StructureSetROISequence:\n",
    "    if roi.ROIName == \"VESSIE\":\n",
    "        my_roi = roi\n",
    "# Get the contour sequence to this specific organ\n",
    "# The contour sequence is a series of contours, each one is for a different slice\n",
    "vessie_contours = rt_struct.ROIContourSequence[my_roi.ROINumber].ContourSequence\n"
   ]
  },
  {
   "cell_type": "code",
   "execution_count": 38,
   "metadata": {},
   "outputs": [],
   "source": [
    "# Find the contour that I want according to the unique ID that \n",
    "for contour in vessie_contours:\n",
    "    if contour.ContourImageSequence[0].ReferencedSOPInstanceUID == mri.SOPInstanceUID:\n",
    "        my_contour = contour\n"
   ]
  },
  {
   "cell_type": "markdown",
   "metadata": {},
   "source": [
    "### About the contour data\n",
    "\n",
    "The contour sequence is a coordinates of the contour which is defined in sequenced way (i.e. [x1,y1,z1,x2,y2,z2, ... , xn,yn,zn)\n",
    "As for the z-axis is the same for every contour on the grounds that is defined on the same slice (In this notebook is 56,25). So, in order to define the z-axis of the segment we will check the SliceLocation (`mri.SliceLocation`) "
   ]
  },
  {
   "cell_type": "code",
   "execution_count": 55,
   "metadata": {},
   "outputs": [
    {
     "name": "stdout",
     "output_type": "stream",
     "text": [
      "['-9.0005493164063', '46.4995002746582', '56.25', '-9.0005493164063', '46.4995002746582', '56.25']\n",
      "[-9.00054932 46.49950027 56.25       -9.00054932 46.49950027 56.25      ]\n"
     ]
    }
   ],
   "source": [
    "test = np.array(my_contour.ContourData).reshape((-1,3))\n",
    "print(my_contour.ContourData[0:6])\n",
    "print(test.flatten()[0:6])\n",
    "#.reshape((-1,3))é\n"
   ]
  },
  {
   "cell_type": "code",
   "execution_count": 7,
   "metadata": {},
   "outputs": [
    {
     "data": {
      "text/plain": [
       "(0002, 0000) File Meta Information Group Length  UL: 254\n",
       "(0002, 0001) File Meta Information Version       OB: b'\\x00\\x01'\n",
       "(0002, 0002) Media Storage SOP Class UID         UI: CT Image Storage\n",
       "(0002, 0003) Media Storage SOP Instance UID      UI: 1.2.826.0.1.3680043.2.1125.1.96088840642041392308451284029189661\n",
       "(0002, 0010) Transfer Syntax UID                 UI: Implicit VR Little Endian\n",
       "(0002, 0012) Implementation Class UID            UI: 1.2.826.0.1.3680043.2.1143.107.104.103.115.3.0.5.111.124.113\n",
       "(0002, 0013) Implementation Version Name         SH: 'GDCM 3.0.5'\n",
       "(0002, 0016) Source Application Entity Title     AE: 'GDCM/ITK 5.1.2'"
      ]
     },
     "execution_count": 7,
     "metadata": {},
     "output_type": "execute_result"
    }
   ],
   "source": [
    "mri.file_meta"
   ]
  },
  {
   "cell_type": "code",
   "execution_count": 43,
   "metadata": {},
   "outputs": [
    {
     "data": {
      "text/plain": [
       "'56.25'"
      ]
     },
     "execution_count": 43,
     "metadata": {},
     "output_type": "execute_result"
    }
   ],
   "source": [
    "mri.SliceLocation"
   ]
  },
  {
   "cell_type": "code",
   "execution_count": null,
   "metadata": {},
   "outputs": [],
   "source": []
  }
 ],
 "metadata": {
  "interpreter": {
   "hash": "b69a98d3df882577ba469635c4ab08c5ae67eaedfd3a57f311f98966a6edb2d0"
  },
  "kernelspec": {
   "display_name": "Python 3.8.12 ('torch')",
   "language": "python",
   "name": "python3"
  },
  "language_info": {
   "codemirror_mode": {
    "name": "ipython",
    "version": 3
   },
   "file_extension": ".py",
   "mimetype": "text/x-python",
   "name": "python",
   "nbconvert_exporter": "python",
   "pygments_lexer": "ipython3",
   "version": "3.8.12"
  },
  "orig_nbformat": 4
 },
 "nbformat": 4,
 "nbformat_minor": 2
}
