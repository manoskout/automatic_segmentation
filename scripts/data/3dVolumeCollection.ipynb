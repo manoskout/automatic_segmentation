{
 "cells": [
  {
   "cell_type": "markdown",
   "metadata": {},
   "source": [
    "This file collects all the multiclass volumes from each patient into a specific folder called multiclass_dataset"
   ]
  },
  {
   "cell_type": "code",
   "execution_count": 23,
   "metadata": {},
   "outputs": [],
   "source": [
    "import os\n",
    "import nibabel as ni\n",
    "import shutil"
   ]
  },
  {
   "cell_type": "code",
   "execution_count": 24,
   "metadata": {},
   "outputs": [],
   "source": [
    "root = \"C:\\\\Users\\\\ek779475\\\\Documents\\\\Koutoulakis\\\\automatic_segmentation\\\\Dataset\"\n",
    "dataset_path = os.path.join(root, \"multiclass_volumes\")\n",
    "masks_path = os.path.join(dataset_path,\"masks\")\n",
    "mris_path = os.path.join(dataset_path,\"mris\")\n",
    "\n"
   ]
  },
  {
   "cell_type": "code",
   "execution_count": 17,
   "metadata": {},
   "outputs": [
    {
     "name": "stdout",
     "output_type": "stream",
     "text": [
      "['C:\\\\Users\\\\ek779475\\\\Documents\\\\Koutoulakis\\\\automatic_segmentation\\\\Dataset\\\\001_PRO_pCT_CGFL', 'C:\\\\Users\\\\ek779475\\\\Documents\\\\Koutoulakis\\\\automatic_segmentation\\\\Dataset\\\\002_PRO_pCT_CGFL', 'C:\\\\Users\\\\ek779475\\\\Documents\\\\Koutoulakis\\\\automatic_segmentation\\\\Dataset\\\\003_PRO_pCT_CGFL', 'C:\\\\Users\\\\ek779475\\\\Documents\\\\Koutoulakis\\\\automatic_segmentation\\\\Dataset\\\\004_PRO_pCT_CGFL', 'C:\\\\Users\\\\ek779475\\\\Documents\\\\Koutoulakis\\\\automatic_segmentation\\\\Dataset\\\\005_PRO_pCT_CGFL', 'C:\\\\Users\\\\ek779475\\\\Documents\\\\Koutoulakis\\\\automatic_segmentation\\\\Dataset\\\\006_PRO_pCT_CGFL', 'C:\\\\Users\\\\ek779475\\\\Documents\\\\Koutoulakis\\\\automatic_segmentation\\\\Dataset\\\\007_PRO_pCT_CGFL', 'C:\\\\Users\\\\ek779475\\\\Documents\\\\Koutoulakis\\\\automatic_segmentation\\\\Dataset\\\\008_PRO_pCT_CGFL', 'C:\\\\Users\\\\ek779475\\\\Documents\\\\Koutoulakis\\\\automatic_segmentation\\\\Dataset\\\\009_PRO_pCT_CGFL', 'C:\\\\Users\\\\ek779475\\\\Documents\\\\Koutoulakis\\\\automatic_segmentation\\\\Dataset\\\\010_PRO_pCT_CGFL', 'C:\\\\Users\\\\ek779475\\\\Documents\\\\Koutoulakis\\\\automatic_segmentation\\\\Dataset\\\\011_PRO_pCT_CGFL', 'C:\\\\Users\\\\ek779475\\\\Documents\\\\Koutoulakis\\\\automatic_segmentation\\\\Dataset\\\\012_PRO_pCT_CGFL', 'C:\\\\Users\\\\ek779475\\\\Documents\\\\Koutoulakis\\\\automatic_segmentation\\\\Dataset\\\\013_PRO_pCT_CGFL', 'C:\\\\Users\\\\ek779475\\\\Documents\\\\Koutoulakis\\\\automatic_segmentation\\\\Dataset\\\\014_PRO_pCT_CGFL', 'C:\\\\Users\\\\ek779475\\\\Documents\\\\Koutoulakis\\\\automatic_segmentation\\\\Dataset\\\\015_PRO_pCT_CGFL', 'C:\\\\Users\\\\ek779475\\\\Documents\\\\Koutoulakis\\\\automatic_segmentation\\\\Dataset\\\\016_PRO_pCT_CGFL', 'C:\\\\Users\\\\ek779475\\\\Documents\\\\Koutoulakis\\\\automatic_segmentation\\\\Dataset\\\\017_PRO_pCT_CGFL', 'C:\\\\Users\\\\ek779475\\\\Documents\\\\Koutoulakis\\\\automatic_segmentation\\\\Dataset\\\\018_PRO_pCT_CGFL', 'C:\\\\Users\\\\ek779475\\\\Documents\\\\Koutoulakis\\\\automatic_segmentation\\\\Dataset\\\\019_PRO_pCT_CGFL', 'C:\\\\Users\\\\ek779475\\\\Documents\\\\Koutoulakis\\\\automatic_segmentation\\\\Dataset\\\\020_PRO_pCT_CGFL', 'C:\\\\Users\\\\ek779475\\\\Documents\\\\Koutoulakis\\\\automatic_segmentation\\\\Dataset\\\\021_PRO_pCT_CGFL', 'C:\\\\Users\\\\ek779475\\\\Documents\\\\Koutoulakis\\\\automatic_segmentation\\\\Dataset\\\\022_PRO_pCT_CGFL', 'C:\\\\Users\\\\ek779475\\\\Documents\\\\Koutoulakis\\\\automatic_segmentation\\\\Dataset\\\\023_PRO_pCT_CGFL', 'C:\\\\Users\\\\ek779475\\\\Documents\\\\Koutoulakis\\\\automatic_segmentation\\\\Dataset\\\\024_PRO_pCT_CGFL', 'C:\\\\Users\\\\ek779475\\\\Documents\\\\Koutoulakis\\\\automatic_segmentation\\\\Dataset\\\\025_PRO_pCT_CGFL', 'C:\\\\Users\\\\ek779475\\\\Documents\\\\Koutoulakis\\\\automatic_segmentation\\\\Dataset\\\\026_PRO_pCT_CGFL', 'C:\\\\Users\\\\ek779475\\\\Documents\\\\Koutoulakis\\\\automatic_segmentation\\\\Dataset\\\\027_PRO_pCT_CGFL', 'C:\\\\Users\\\\ek779475\\\\Documents\\\\Koutoulakis\\\\automatic_segmentation\\\\Dataset\\\\028_PRO_pCT_CGFL', 'C:\\\\Users\\\\ek779475\\\\Documents\\\\Koutoulakis\\\\automatic_segmentation\\\\Dataset\\\\029_PRO_pCT_CGFL', 'C:\\\\Users\\\\ek779475\\\\Documents\\\\Koutoulakis\\\\automatic_segmentation\\\\Dataset\\\\030_PRO_pCT_CGFL', 'C:\\\\Users\\\\ek779475\\\\Documents\\\\Koutoulakis\\\\automatic_segmentation\\\\Dataset\\\\031_PRO_pCT_CGFL', 'C:\\\\Users\\\\ek779475\\\\Documents\\\\Koutoulakis\\\\automatic_segmentation\\\\Dataset\\\\032_PRO_pCT_CGFL', 'C:\\\\Users\\\\ek779475\\\\Documents\\\\Koutoulakis\\\\automatic_segmentation\\\\Dataset\\\\033_PRO_pCT_CGFL', 'C:\\\\Users\\\\ek779475\\\\Documents\\\\Koutoulakis\\\\automatic_segmentation\\\\Dataset\\\\034_PRO_pCT_CGFL', 'C:\\\\Users\\\\ek779475\\\\Documents\\\\Koutoulakis\\\\automatic_segmentation\\\\Dataset\\\\035_PRO_pCT_CGFL', 'C:\\\\Users\\\\ek779475\\\\Documents\\\\Koutoulakis\\\\automatic_segmentation\\\\Dataset\\\\036_PRO_pCT_CGFL', 'C:\\\\Users\\\\ek779475\\\\Documents\\\\Koutoulakis\\\\automatic_segmentation\\\\Dataset\\\\037_PRO_pCT_CGFL', 'C:\\\\Users\\\\ek779475\\\\Documents\\\\Koutoulakis\\\\automatic_segmentation\\\\Dataset\\\\038_PRO_pCT_CGFL', 'C:\\\\Users\\\\ek779475\\\\Documents\\\\Koutoulakis\\\\automatic_segmentation\\\\Dataset\\\\039_PRO_pCT_CGFL', 'C:\\\\Users\\\\ek779475\\\\Documents\\\\Koutoulakis\\\\automatic_segmentation\\\\Dataset\\\\040_PRO_pCT_CGFL', 'C:\\\\Users\\\\ek779475\\\\Documents\\\\Koutoulakis\\\\automatic_segmentation\\\\Dataset\\\\041_PRO_pCT_CGFL', 'C:\\\\Users\\\\ek779475\\\\Documents\\\\Koutoulakis\\\\automatic_segmentation\\\\Dataset\\\\042_PRO_pCT_CGFL', 'C:\\\\Users\\\\ek779475\\\\Documents\\\\Koutoulakis\\\\automatic_segmentation\\\\Dataset\\\\043_PRO_pCT_CGFL', 'C:\\\\Users\\\\ek779475\\\\Documents\\\\Koutoulakis\\\\automatic_segmentation\\\\Dataset\\\\044_PRO_pCT_CGFL', 'C:\\\\Users\\\\ek779475\\\\Documents\\\\Koutoulakis\\\\automatic_segmentation\\\\Dataset\\\\045_PRO_pCT_CGFL', 'C:\\\\Users\\\\ek779475\\\\Documents\\\\Koutoulakis\\\\automatic_segmentation\\\\Dataset\\\\046_PRO_pCT_CGFL', 'C:\\\\Users\\\\ek779475\\\\Documents\\\\Koutoulakis\\\\automatic_segmentation\\\\Dataset\\\\047_PRO_pCT_CGFL', 'C:\\\\Users\\\\ek779475\\\\Documents\\\\Koutoulakis\\\\automatic_segmentation\\\\Dataset\\\\048_PRO_pCT_CGFL', 'C:\\\\Users\\\\ek779475\\\\Documents\\\\Koutoulakis\\\\automatic_segmentation\\\\Dataset\\\\049_PRO_pCT_CGFL', 'C:\\\\Users\\\\ek779475\\\\Documents\\\\Koutoulakis\\\\automatic_segmentation\\\\Dataset\\\\050_PRO_pCT_CGFL', 'C:\\\\Users\\\\ek779475\\\\Documents\\\\Koutoulakis\\\\automatic_segmentation\\\\Dataset\\\\051_PRO_pCT_CGFL', 'C:\\\\Users\\\\ek779475\\\\Documents\\\\Koutoulakis\\\\automatic_segmentation\\\\Dataset\\\\052_PRO_pCT_CGFL', 'C:\\\\Users\\\\ek779475\\\\Documents\\\\Koutoulakis\\\\automatic_segmentation\\\\Dataset\\\\053_PRO_pCT_CGFL', 'C:\\\\Users\\\\ek779475\\\\Documents\\\\Koutoulakis\\\\automatic_segmentation\\\\Dataset\\\\054_PRO_pCT_CGFL', 'C:\\\\Users\\\\ek779475\\\\Documents\\\\Koutoulakis\\\\automatic_segmentation\\\\Dataset\\\\055_PRO_pCT_CGFL', 'C:\\\\Users\\\\ek779475\\\\Documents\\\\Koutoulakis\\\\automatic_segmentation\\\\Dataset\\\\056_PRO_pCT_CGFL', 'C:\\\\Users\\\\ek779475\\\\Documents\\\\Koutoulakis\\\\automatic_segmentation\\\\Dataset\\\\057_PRO_pCT_CGFL', 'C:\\\\Users\\\\ek779475\\\\Documents\\\\Koutoulakis\\\\automatic_segmentation\\\\Dataset\\\\058_PRO_pCT_CGFL', 'C:\\\\Users\\\\ek779475\\\\Documents\\\\Koutoulakis\\\\automatic_segmentation\\\\Dataset\\\\059_PRO_pCT_CGFL', 'C:\\\\Users\\\\ek779475\\\\Documents\\\\Koutoulakis\\\\automatic_segmentation\\\\Dataset\\\\060_PRO_pCT_CGFL', 'C:\\\\Users\\\\ek779475\\\\Documents\\\\Koutoulakis\\\\automatic_segmentation\\\\Dataset\\\\061_PRO_pCT_CGFL', 'C:\\\\Users\\\\ek779475\\\\Documents\\\\Koutoulakis\\\\automatic_segmentation\\\\Dataset\\\\062_PRO_pCT_CGFL', 'C:\\\\Users\\\\ek779475\\\\Documents\\\\Koutoulakis\\\\automatic_segmentation\\\\Dataset\\\\063_PRO_pCT_CGFL', 'C:\\\\Users\\\\ek779475\\\\Documents\\\\Koutoulakis\\\\automatic_segmentation\\\\Dataset\\\\064_PRO_pCT_CGFL', 'C:\\\\Users\\\\ek779475\\\\Documents\\\\Koutoulakis\\\\automatic_segmentation\\\\Dataset\\\\065_PRO_pCT_CGFL', 'C:\\\\Users\\\\ek779475\\\\Documents\\\\Koutoulakis\\\\automatic_segmentation\\\\Dataset\\\\066_PRO_pCT_CGFL', 'C:\\\\Users\\\\ek779475\\\\Documents\\\\Koutoulakis\\\\automatic_segmentation\\\\Dataset\\\\067_PRO_pCT_CGFL', 'C:\\\\Users\\\\ek779475\\\\Documents\\\\Koutoulakis\\\\automatic_segmentation\\\\Dataset\\\\068_PRO_pCT_CGFL', 'C:\\\\Users\\\\ek779475\\\\Documents\\\\Koutoulakis\\\\automatic_segmentation\\\\Dataset\\\\069_PRO_pCT_CGFL', 'C:\\\\Users\\\\ek779475\\\\Documents\\\\Koutoulakis\\\\automatic_segmentation\\\\Dataset\\\\070_PRO_pCT_CGFL', 'C:\\\\Users\\\\ek779475\\\\Documents\\\\Koutoulakis\\\\automatic_segmentation\\\\Dataset\\\\071_PRO_pCT_CGFL', 'C:\\\\Users\\\\ek779475\\\\Documents\\\\Koutoulakis\\\\automatic_segmentation\\\\Dataset\\\\072_PRO_pCT_CGFL', 'C:\\\\Users\\\\ek779475\\\\Documents\\\\Koutoulakis\\\\automatic_segmentation\\\\Dataset\\\\073_PRO_pCT_CGFL', 'C:\\\\Users\\\\ek779475\\\\Documents\\\\Koutoulakis\\\\automatic_segmentation\\\\Dataset\\\\074_PRO_pCT_CGFL', 'C:\\\\Users\\\\ek779475\\\\Documents\\\\Koutoulakis\\\\automatic_segmentation\\\\Dataset\\\\075_PRO_pCT_CGFL']\n"
     ]
    }
   ],
   "source": [
    "# patients = [os.path.join(root,patient) for patient in os.listdir(root) if \"_PRO_pCT_CGFL\" in patient]\n",
    "\n",
    "# if not os.path.exists(dataset_path):\n",
    "#     os.mkdir(dataset_path)\n",
    "#     if not os.path.exists(masks_path):\n",
    "#         os.mkdir(masks_path)\n",
    "#         os.mkdir(mris_path)\n",
    "\n",
    "# for index,patient in enumerate(patients):\n",
    "#     if \"nifti\" in os.listdir(patient):\n",
    "#         # Some patients does not contain the nifti file because phycist does not segment the  demanded organs\n",
    "#         volume_path = os.path.join(patient+'\\\\nifti')\n",
    "#         # print(volume_path)\n",
    "#     for volume_name in os.listdir(volume_path):\n",
    "#         if \"_masks\" in volume_name:\n",
    "#             shutil.copy(os.path.join(volume_path,volume_name), os.path.join(masks_path,volume_name))\n",
    "#         else:\n",
    "#              shutil.copy(os.path.join(volume_path,volume_name), os.path.join(mris_path,volume_name))"
   ]
  },
  {
   "cell_type": "markdown",
   "metadata": {},
   "source": [
    "Get all the volumes from the multiclass"
   ]
  },
  {
   "cell_type": "code",
   "execution_count": 39,
   "metadata": {},
   "outputs": [
    {
     "name": "stdout",
     "output_type": "stream",
     "text": [
      "(300, 200, 21)\n",
      "(300, 200, 28)\n",
      "(300, 200, 33)\n",
      "(334, 300, 18)\n",
      "(300, 200, 19)\n",
      "(334, 300, 31)\n",
      "(300, 200, 19)\n",
      "(266, 288, 15)\n",
      "(300, 200, 27)\n",
      "(300, 200, 21)\n",
      "(300, 200, 9)\n",
      "(300, 200, 28)\n",
      "(300, 200, 19)\n",
      "(300, 200, 16)\n",
      "(300, 200, 23)\n",
      "(300, 200, 20)\n",
      "(300, 200, 26)\n",
      "(334, 300, 32)\n",
      "(334, 300, 17)\n",
      "(334, 300, 27)\n",
      "(266, 288, 32)\n",
      "(266, 200, 22)\n",
      "(266, 288, 26)\n",
      "(300, 200, 22)\n",
      "(266, 288, 15)\n",
      "(266, 288, 22)\n",
      "(266, 288, 25)\n",
      "(300, 200, 13)\n",
      "(300, 200, 19)\n",
      "(300, 200, 17)\n",
      "(266, 288, 21)\n",
      "(334, 300, 21)\n",
      "(334, 300, 27)\n",
      "(334, 300, 23)\n",
      "(266, 288, 29)\n",
      "(266, 288, 23)\n",
      "(266, 288, 22)\n",
      "(300, 200, 23)\n",
      "(266, 288, 24)\n",
      "(266, 288, 29)\n",
      "(266, 288, 18)\n",
      "(334, 300, 20)\n",
      "(334, 300, 22)\n",
      "(334, 300, 19)\n",
      "(334, 300, 20)\n",
      "(334, 300, 22)\n",
      "(266, 288, 30)\n",
      "(334, 300, 25)\n",
      "(334, 300, 23)\n",
      "(334, 300, 16)\n",
      "(266, 288, 19)\n",
      "(334, 300, 20)\n",
      "(266, 288, 28)\n",
      "(266, 288, 17)\n",
      "(266, 288, 28)\n",
      "(334, 300, 12)\n",
      "(334, 300, 27)\n",
      "(334, 300, 27)\n",
      "(334, 300, 25)\n",
      "(334, 300, 25)\n",
      "(334, 300, 22)\n",
      "(334, 300, 16)\n",
      "(334, 300, 27)\n",
      "(334, 300, 17)\n",
      "(334, 200, 14)\n",
      "(334, 300, 29)\n"
     ]
    }
   ],
   "source": [
    "for image,mask in zip(os.listdir(mris_path), os.listdir(masks_path)):\n",
    "    volume = ni.load(os.path.join(mris_path,image))\n",
    "    mask = ni.load(os.path.join(masks_path,mask))\n",
    "    print(volume.header.get_data_shape())\n",
    "# os.path.join(dataset_path, mris_path)\n"
   ]
  },
  {
   "cell_type": "code",
   "execution_count": null,
   "metadata": {},
   "outputs": [],
   "source": []
  }
 ],
 "metadata": {
  "interpreter": {
   "hash": "b69a98d3df882577ba469635c4ab08c5ae67eaedfd3a57f311f98966a6edb2d0"
  },
  "kernelspec": {
   "display_name": "Python 3.8.12 ('torch')",
   "language": "python",
   "name": "python3"
  },
  "language_info": {
   "codemirror_mode": {
    "name": "ipython",
    "version": 3
   },
   "file_extension": ".py",
   "mimetype": "text/x-python",
   "name": "python",
   "nbconvert_exporter": "python",
   "pygments_lexer": "ipython3",
   "version": "3.8.12"
  },
  "orig_nbformat": 4
 },
 "nbformat": 4,
 "nbformat_minor": 2
}
